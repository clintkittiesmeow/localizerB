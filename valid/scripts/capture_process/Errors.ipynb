{
 "cells": [
  {
   "cell_type": "code",
   "execution_count": 58,
   "metadata": {
    "collapsed": true
   },
   "outputs": [
    {
     "name": "stdout",
     "output_type": "stream",
     "text": [
      "Dropped 1 outlier coordinate\n"
     ]
    }
   ],
   "source": [
    "%reload_ext autoreload\n",
    "%autoreload 2\n",
    "%matplotlib inline\n",
    "import ingest\n",
    "import numpy as np\n",
    "import pandas as pd\n",
    "df = ingest.setup('../../capture/capture1')"
   ]
  },
  {
   "cell_type": "code",
   "execution_count": 74,
   "metadata": {},
   "outputs": [
    {
     "name": "stdout",
     "output_type": "stream",
     "text": [
      "Dropped 1 outlier coordinate\n"
     ]
    }
   ],
   "source": [
    "%reload_ext autoreload\n",
    "%autoreload 2\n",
    "%matplotlib inline\n",
    "import ingest2\n",
    "import numpy as np\n",
    "import pandas as pd\n",
    "df = ingest2.setup('../../capture/capture1')"
   ]
  },
  {
   "cell_type": "code",
   "execution_count": 75,
   "metadata": {},
   "outputs": [
    {
     "name": "stdout",
     "output_type": "stream",
     "text": [
      "Processing with 7 cores...\n"
     ]
    },
    {
     "data": {
      "application/vnd.jupyter.widget-view+json": {
       "model_id": "cda900f08583468f9b2eb852af54ea78",
       "version_major": 2,
       "version_minor": 0
      },
      "text/html": [
       "<p>Failed to display Jupyter Widget of type <code>HBox</code>.</p>\n",
       "<p>\n",
       "  If you're reading this message in the Jupyter Notebook or JupyterLab Notebook, it may mean\n",
       "  that the widgets JavaScript is still loading. If this message persists, it\n",
       "  likely means that the widgets JavaScript library is either not installed or\n",
       "  not enabled. See the <a href=\"https://ipywidgets.readthedocs.io/en/stable/user_install.html\">Jupyter\n",
       "  Widgets Documentation</a> for setup instructions.\n",
       "</p>\n",
       "<p>\n",
       "  If you're reading this message in another frontend (for example, a static\n",
       "  rendering on GitHub or <a href=\"https://nbviewer.jupyter.org/\">NBViewer</a>),\n",
       "  it may mean that your frontend doesn't currently support widgets.\n",
       "</p>\n"
      ],
      "text/plain": [
       "HBox(children=(IntProgress(value=0, description='Methods', max=12), HTML(value='')))"
      ]
     },
     "metadata": {},
     "output_type": "display_data"
    }
   ],
   "source": [
    "import warnings\n",
    "warnings.filterwarnings('ignore')\n",
    "errors2 = ingest2.compare_errors()"
   ]
  },
  {
   "cell_type": "code",
   "execution_count": 65,
   "metadata": {},
   "outputs": [
    {
     "data": {
      "application/vnd.jupyter.widget-view+json": {
       "model_id": "cc9f4421735d49d3adf498d99a222e25",
       "version_major": 2,
       "version_minor": 0
      },
      "text/html": [
       "<p>Failed to display Jupyter Widget of type <code>HBox</code>.</p>\n",
       "<p>\n",
       "  If you're reading this message in the Jupyter Notebook or JupyterLab Notebook, it may mean\n",
       "  that the widgets JavaScript is still loading. If this message persists, it\n",
       "  likely means that the widgets JavaScript library is either not installed or\n",
       "  not enabled. See the <a href=\"https://ipywidgets.readthedocs.io/en/stable/user_install.html\">Jupyter\n",
       "  Widgets Documentation</a> for setup instructions.\n",
       "</p>\n",
       "<p>\n",
       "  If you're reading this message in another frontend (for example, a static\n",
       "  rendering on GitHub or <a href=\"https://nbviewer.jupyter.org/\">NBViewer</a>),\n",
       "  it may mean that your frontend doesn't currently support widgets.\n",
       "</p>\n"
      ],
      "text/plain": [
       "HBox(children=(IntProgress(value=0, description='Preparing data', max=4342), HTML(value='')))"
      ]
     },
     "metadata": {},
     "output_type": "display_data"
    },
    {
     "name": "stdout",
     "output_type": "stream",
     "text": [
      "\n"
     ]
    },
    {
     "data": {
      "application/vnd.jupyter.widget-view+json": {
       "model_id": "f80dcdc5ce274dcda30e735d5dd0ae9c",
       "version_major": 2,
       "version_minor": 0
      },
      "text/html": [
       "<p>Failed to display Jupyter Widget of type <code>HBox</code>.</p>\n",
       "<p>\n",
       "  If you're reading this message in the Jupyter Notebook or JupyterLab Notebook, it may mean\n",
       "  that the widgets JavaScript is still loading. If this message persists, it\n",
       "  likely means that the widgets JavaScript library is either not installed or\n",
       "  not enabled. See the <a href=\"https://ipywidgets.readthedocs.io/en/stable/user_install.html\">Jupyter\n",
       "  Widgets Documentation</a> for setup instructions.\n",
       "</p>\n",
       "<p>\n",
       "  If you're reading this message in another frontend (for example, a static\n",
       "  rendering on GitHub or <a href=\"https://nbviewer.jupyter.org/\">NBViewer</a>),\n",
       "  it may mean that your frontend doesn't currently support widgets.\n",
       "</p>\n"
      ],
      "text/plain": [
       "HBox(children=(IntProgress(value=0, description='Interpolating', max=52104), HTML(value='')))"
      ]
     },
     "metadata": {},
     "output_type": "display_data"
    },
    {
     "name": "stdout",
     "output_type": "stream",
     "text": [
      "\n"
     ]
    }
   ],
   "source": [
    "import warnings\n",
    "warnings.filterwarnings('ignore')\n",
    "errors = ingest.error(ingest.error_methods)\n",
    "#errors_uncorrected = ingest.error(ingest.error_methods, true_bearing=False)\n",
    "#errors_dbm = ingest.error(ingest.error_methods, mw=False)"
   ]
  },
  {
   "cell_type": "code",
   "execution_count": 83,
   "metadata": {},
   "outputs": [
    {
     "name": "stdout",
     "output_type": "stream",
     "text": [
      "method\n",
      "barycentric             78.541840\n",
      "linear                  81.651648\n",
      "slinear                 82.078688\n",
      "pchip                   82.106642\n",
      "akima                   82.136816\n",
      "from_derivatives        82.891220\n",
      "piecewise_polynomial    82.891220\n",
      "naive                   83.600225\n",
      "quadratic               83.615595\n",
      "cubic                   84.645279\n",
      "krogh                   85.045995\n",
      "random                  90.198985\n",
      "Name: error, dtype: float64\n",
      "method\n",
      "barycentric             66.438635\n",
      "linear                  68.438635\n",
      "slinear                 68.619052\n",
      "naive                   69.438635\n",
      "pchip                   69.438635\n",
      "from_derivatives        69.455884\n",
      "piecewise_polynomial    69.455884\n",
      "akima                   70.492831\n",
      "quadratic               73.674479\n",
      "cubic                   74.525810\n",
      "krogh                   83.459636\n",
      "random                  90.402169\n",
      "Name: error, dtype: float64\n"
     ]
    }
   ],
   "source": [
    "# Print the median results by method\n",
    "errors_display = errors.groupby('method')['error'].apply(lambda x: pd.Series.mean(pd.Series.abs(x))).sort_values()\n",
    "errors2_display = errors2.groupby('method')['error'].apply(lambda x: pd.Series.median(pd.Series.abs(x))).sort_values()\n",
    "#errors_display.plot(kind='bar', title=\"Overall\")\n",
    "\n",
    "print(errors_display)\n",
    "print(errors2_display)\n",
    "# Errors in dbm\n",
    "#errors_display_dbm = errors_display = errors_dbm.groupby('method')['error'].apply(lambda x: pd.Series.median(pd.Series.abs(x))).sort_values()\n",
    "#print(errors_display_dbm)"
   ]
  },
  {
   "cell_type": "code",
   "execution_count": 7,
   "metadata": {},
   "outputs": [
    {
     "data": {
      "text/plain": [
       "Text(0,0.5,'error (degrees)')"
      ]
     },
     "execution_count": 7,
     "metadata": {},
     "output_type": "execute_result"
    },
    {
     "data": {
      "image/png": "[encoded data removed]",
      "text/plain": [
       "<matplotlib.figure.Figure at 0x7f65ed45ecc0>"
      ]
     },
     "metadata": {},
     "output_type": "display_data"
    }
   ],
   "source": [
    "# For display purposes, eliminate Random and Krogh\n",
    "median_errors = errors.groupby(['method', 'samples'])['error'].apply(lambda x: pd.Series.median(pd.Series.abs(x))).unstack().T\n",
    "median_errors_reduced = median_errors.drop(median_errors[['random','krogh']], axis=1)\n",
    "#median_errors_reduced = median_errors\n",
    "ax = median_errors_reduced.plot(xticks=median_errors_reduced.index.values, grid=True, title=\"Interpolation Errors\")\n",
    "ax.legend(bbox_to_anchor=(1,1))\n",
    "ax.set_ylabel(\"error (degrees)\")"
   ]
  },
  {
   "cell_type": "code",
   "execution_count": 22,
   "metadata": {},
   "outputs": [
    {
     "data": {
      "text/plain": [
       "<matplotlib.axes._subplots.AxesSubplot at 0x7fcf8e39a358>"
      ]
     },
     "execution_count": 22,
     "metadata": {},
     "output_type": "execute_result"
    },
    {
     "data": {
      "image/png": "[encoded data removed]",
      "text/plain": [
       "<matplotlib.figure.Figure at 0x7fcf8c2884e0>"
      ]
     },
     "metadata": {},
     "output_type": "display_data"
    },
    {
     "data": {
      "image/png": "[encoded data removed]",
      "text/plain": [
       "<matplotlib.figure.Figure at 0x7fcf8e39a550>"
      ]
     },
     "metadata": {},
     "output_type": "display_data"
    }
   ],
   "source": [
    "sample_spread = errors[errors['method']=='naive'].groupby(['test','samples'])['error'].count().unstack().T\n",
    "sample_spread.plot(kind='bar', stacked=True, title=\"Number of Captures per Sample Size\")\n",
    "\n",
    "variance_spread = errors[errors['method']=='naive'].groupby(['test','samples'])['error'].var().unstack().T\n",
    "variance_spread.plot(kind='bar', stacked=True, title=\"Variance per Sample Size\")\n"
   ]
  },
  {
   "cell_type": "code",
   "execution_count": 32,
   "metadata": {},
   "outputs": [
    {
     "name": "stdout",
     "output_type": "stream",
     "text": [
      "Guess: 0, Naive: 251, True: 98.92714806486998\n"
     ]
    },
    {
     "data": {
      "text/plain": [
       "0"
      ]
     },
     "execution_count": 32,
     "metadata": {},
     "output_type": "execute_result"
    },
    {
     "data": {
      "image/png": "[encoded data removed]",
      "text/plain": [
       "<matplotlib.figure.Figure at 0x7fcf8d36b5c0>"
      ]
     },
     "metadata": {},
     "output_type": "display_data"
    }
   ],
   "source": [
    "import locate\n",
    "def get_nsample_set(n):\n",
    "    rando = errors[(errors['samples']==n) & (errors['method']=='naive')].reset_index()\n",
    "    i = np.random.randint(len(rando))\n",
    "    test = rando.iloc[i]['test']\n",
    "    pass_n = rando.iloc[i]['pass']\n",
    "    bssid = rando.iloc[i]['bssid']\n",
    "    return ingest.get_set(test, pass_n, bssid)\n",
    "\n",
    "locate.locate_interpolate(ingest.prep_for_plot(get_nsample_set(1)), 'slinear', True, test='capture-1', bssid='00:12:17:9f:79:b6')\n",
    "\n",
    "\n"
   ]
  },
  {
   "cell_type": "code",
   "execution_count": 28,
   "metadata": {},
   "outputs": [
    {
     "data": {
      "text/html": [
       "<div>\n",
       "<style>\n",
       "    .dataframe thead tr:only-child th {\n",
       "        text-align: right;\n",
       "    }\n",
       "\n",
       "    .dataframe thead th {\n",
       "        text-align: left;\n",
       "    }\n",
       "\n",
       "    .dataframe tbody tr th {\n",
       "        vertical-align: top;\n",
       "    }\n",
       "</style>\n",
       "<table border=\"1\" class=\"dataframe\">\n",
       "  <thead>\n",
       "    <tr style=\"text-align: right;\">\n",
       "      <th></th>\n",
       "      <th>samples</th>\n",
       "      <th>1</th>\n",
       "      <th>2</th>\n",
       "      <th>3</th>\n",
       "      <th>4</th>\n",
       "      <th>5</th>\n",
       "      <th>6</th>\n",
       "      <th>7</th>\n",
       "      <th>8</th>\n",
       "      <th>9</th>\n",
       "      <th>10</th>\n",
       "      <th>...</th>\n",
       "      <th>12</th>\n",
       "      <th>13</th>\n",
       "      <th>14</th>\n",
       "      <th>15</th>\n",
       "      <th>16</th>\n",
       "      <th>17</th>\n",
       "      <th>18</th>\n",
       "      <th>19</th>\n",
       "      <th>20</th>\n",
       "      <th>21</th>\n",
       "    </tr>\n",
       "  </thead>\n",
       "  <tbody>\n",
       "    <tr>\n",
       "      <th rowspan=\"2\" valign=\"top\">0</th>\n",
       "      <th>error</th>\n",
       "      <td>25.6038</td>\n",
       "      <td>19.4412</td>\n",
       "      <td>17.4412</td>\n",
       "      <td>13.9782</td>\n",
       "      <td>12.5774</td>\n",
       "      <td>11.6009</td>\n",
       "      <td>11.0367</td>\n",
       "      <td>9.92715</td>\n",
       "      <td>9.741</td>\n",
       "      <td>9.92715</td>\n",
       "      <td>...</td>\n",
       "      <td>10.4386</td>\n",
       "      <td>12.4386</td>\n",
       "      <td>15.1318</td>\n",
       "      <td>14.3413</td>\n",
       "      <td>10.4386</td>\n",
       "      <td>8.49283</td>\n",
       "      <td>14.7451</td>\n",
       "      <td>20.7906</td>\n",
       "      <td>21.2906</td>\n",
       "      <td>15</td>\n",
       "    </tr>\n",
       "    <tr>\n",
       "      <th>method</th>\n",
       "      <td>akima</td>\n",
       "      <td>naive</td>\n",
       "      <td>from_derivatives</td>\n",
       "      <td>from_derivatives</td>\n",
       "      <td>akima</td>\n",
       "      <td>barycentric</td>\n",
       "      <td>from_derivatives</td>\n",
       "      <td>from_derivatives</td>\n",
       "      <td>linear</td>\n",
       "      <td>linear</td>\n",
       "      <td>...</td>\n",
       "      <td>pchip</td>\n",
       "      <td>pchip</td>\n",
       "      <td>pchip</td>\n",
       "      <td>pchip</td>\n",
       "      <td>from_derivatives</td>\n",
       "      <td>from_derivatives</td>\n",
       "      <td>cubic</td>\n",
       "      <td>akima</td>\n",
       "      <td>from_derivatives</td>\n",
       "      <td>pchip</td>\n",
       "    </tr>\n",
       "    <tr>\n",
       "      <th rowspan=\"2\" valign=\"top\">1</th>\n",
       "      <th>error</th>\n",
       "      <td>25.6038</td>\n",
       "      <td>19.4539</td>\n",
       "      <td>17.4412</td>\n",
       "      <td>13.9782</td>\n",
       "      <td>12.6009</td>\n",
       "      <td>11.6009</td>\n",
       "      <td>11.0367</td>\n",
       "      <td>9.92715</td>\n",
       "      <td>9.741</td>\n",
       "      <td>9.92715</td>\n",
       "      <td>...</td>\n",
       "      <td>13.0367</td>\n",
       "      <td>14.741</td>\n",
       "      <td>19.8211</td>\n",
       "      <td>15.9975</td>\n",
       "      <td>10.4386</td>\n",
       "      <td>8.49283</td>\n",
       "      <td>14.7451</td>\n",
       "      <td>20.7906</td>\n",
       "      <td>21.2906</td>\n",
       "      <td>19</td>\n",
       "    </tr>\n",
       "    <tr>\n",
       "      <th>method</th>\n",
       "      <td>krogh</td>\n",
       "      <td>pchip</td>\n",
       "      <td>linear</td>\n",
       "      <td>linear</td>\n",
       "      <td>from_derivatives</td>\n",
       "      <td>from_derivatives</td>\n",
       "      <td>piecewise_polynomial</td>\n",
       "      <td>linear</td>\n",
       "      <td>slinear</td>\n",
       "      <td>slinear</td>\n",
       "      <td>...</td>\n",
       "      <td>from_derivatives</td>\n",
       "      <td>from_derivatives</td>\n",
       "      <td>akima</td>\n",
       "      <td>akima</td>\n",
       "      <td>pchip</td>\n",
       "      <td>piecewise_polynomial</td>\n",
       "      <td>quadratic</td>\n",
       "      <td>linear</td>\n",
       "      <td>linear</td>\n",
       "      <td>from_derivatives</td>\n",
       "    </tr>\n",
       "    <tr>\n",
       "      <th rowspan=\"2\" valign=\"top\">2</th>\n",
       "      <th>error</th>\n",
       "      <td>25.6038</td>\n",
       "      <td>19.4539</td>\n",
       "      <td>17.4412</td>\n",
       "      <td>13.9782</td>\n",
       "      <td>12.6009</td>\n",
       "      <td>11.6009</td>\n",
       "      <td>11.0367</td>\n",
       "      <td>9.92715</td>\n",
       "      <td>9.92715</td>\n",
       "      <td>10.0367</td>\n",
       "      <td>...</td>\n",
       "      <td>13.0367</td>\n",
       "      <td>14.741</td>\n",
       "      <td>23.2906</td>\n",
       "      <td>20.5573</td>\n",
       "      <td>10.4386</td>\n",
       "      <td>9.49283</td>\n",
       "      <td>16.2906</td>\n",
       "      <td>21.7906</td>\n",
       "      <td>21.2906</td>\n",
       "      <td>19</td>\n",
       "    </tr>\n",
       "    <tr>\n",
       "      <th>method</th>\n",
       "      <td>linear</td>\n",
       "      <td>slinear</td>\n",
       "      <td>naive</td>\n",
       "      <td>naive</td>\n",
       "      <td>linear</td>\n",
       "      <td>linear</td>\n",
       "      <td>slinear</td>\n",
       "      <td>naive</td>\n",
       "      <td>from_derivatives</td>\n",
       "      <td>naive</td>\n",
       "      <td>...</td>\n",
       "      <td>piecewise_polynomial</td>\n",
       "      <td>piecewise_polynomial</td>\n",
       "      <td>from_derivatives</td>\n",
       "      <td>cubic</td>\n",
       "      <td>piecewise_polynomial</td>\n",
       "      <td>slinear</td>\n",
       "      <td>pchip</td>\n",
       "      <td>barycentric</td>\n",
       "      <td>pchip</td>\n",
       "      <td>piecewise_polynomial</td>\n",
       "    </tr>\n",
       "    <tr>\n",
       "      <th rowspan=\"2\" valign=\"top\">3</th>\n",
       "      <th>error</th>\n",
       "      <td>25.6038</td>\n",
       "      <td>19.9704</td>\n",
       "      <td>17.4412</td>\n",
       "      <td>13.9782</td>\n",
       "      <td>12.6009</td>\n",
       "      <td>11.6009</td>\n",
       "      <td>11.2012</td>\n",
       "      <td>9.92715</td>\n",
       "      <td>9.92715</td>\n",
       "      <td>10.0367</td>\n",
       "      <td>...</td>\n",
       "      <td>13.3233</td>\n",
       "      <td>15.4731</td>\n",
       "      <td>23.2906</td>\n",
       "      <td>20.7906</td>\n",
       "      <td>11.4928</td>\n",
       "      <td>10.4928</td>\n",
       "      <td>17.394</td>\n",
       "      <td>21.7906</td>\n",
       "      <td>21.2906</td>\n",
       "      <td>19.7906</td>\n",
       "    </tr>\n",
       "    <tr>\n",
       "      <th>method</th>\n",
       "      <td>slinear</td>\n",
       "      <td>from_derivatives</td>\n",
       "      <td>pchip</td>\n",
       "      <td>pchip</td>\n",
       "      <td>naive</td>\n",
       "      <td>naive</td>\n",
       "      <td>linear</td>\n",
       "      <td>piecewise_polynomial</td>\n",
       "      <td>pchip</td>\n",
       "      <td>pchip</td>\n",
       "      <td>...</td>\n",
       "      <td>linear</td>\n",
       "      <td>linear</td>\n",
       "      <td>piecewise_polynomial</td>\n",
       "      <td>linear</td>\n",
       "      <td>akima</td>\n",
       "      <td>akima</td>\n",
       "      <td>akima</td>\n",
       "      <td>from_derivatives</td>\n",
       "      <td>piecewise_polynomial</td>\n",
       "      <td>linear</td>\n",
       "    </tr>\n",
       "    <tr>\n",
       "      <th rowspan=\"2\" valign=\"top\">4</th>\n",
       "      <th>error</th>\n",
       "      <td>42.0947</td>\n",
       "      <td>19.9704</td>\n",
       "      <td>17.4412</td>\n",
       "      <td>13.9782</td>\n",
       "      <td>12.6009</td>\n",
       "      <td>11.6009</td>\n",
       "      <td>11.2012</td>\n",
       "      <td>9.92715</td>\n",
       "      <td>9.92715</td>\n",
       "      <td>10.3233</td>\n",
       "      <td>...</td>\n",
       "      <td>13.3233</td>\n",
       "      <td>15.4731</td>\n",
       "      <td>25.3982</td>\n",
       "      <td>20.7906</td>\n",
       "      <td>11.7906</td>\n",
       "      <td>10.4928</td>\n",
       "      <td>19.2906</td>\n",
       "      <td>21.7906</td>\n",
       "      <td>21.2906</td>\n",
       "      <td>19.7906</td>\n",
       "    </tr>\n",
       "    <tr>\n",
       "      <th>method</th>\n",
       "      <td>quadratic</td>\n",
       "      <td>linear</td>\n",
       "      <td>piecewise_polynomial</td>\n",
       "      <td>piecewise_polynomial</td>\n",
       "      <td>pchip</td>\n",
       "      <td>pchip</td>\n",
       "      <td>pchip</td>\n",
       "      <td>slinear</td>\n",
       "      <td>piecewise_polynomial</td>\n",
       "      <td>from_derivatives</td>\n",
       "      <td>...</td>\n",
       "      <td>slinear</td>\n",
       "      <td>slinear</td>\n",
       "      <td>cubic</td>\n",
       "      <td>slinear</td>\n",
       "      <td>linear</td>\n",
       "      <td>pchip</td>\n",
       "      <td>linear</td>\n",
       "      <td>naive</td>\n",
       "      <td>slinear</td>\n",
       "      <td>slinear</td>\n",
       "    </tr>\n",
       "  </tbody>\n",
       "</table>\n",
       "<p>10 rows × 21 columns</p>\n",
       "</div>"
      ],
      "text/plain": [
       "samples          1                 2                     3   \\\n",
       "0 error     25.6038           19.4412               17.4412   \n",
       "  method      akima             naive      from_derivatives   \n",
       "1 error     25.6038           19.4539               17.4412   \n",
       "  method      krogh             pchip                linear   \n",
       "2 error     25.6038           19.4539               17.4412   \n",
       "  method     linear           slinear                 naive   \n",
       "3 error     25.6038           19.9704               17.4412   \n",
       "  method    slinear  from_derivatives                 pchip   \n",
       "4 error     42.0947           19.9704               17.4412   \n",
       "  method  quadratic            linear  piecewise_polynomial   \n",
       "\n",
       "samples                     4                 5                 6   \\\n",
       "0 error                13.9782           12.5774           11.6009   \n",
       "  method      from_derivatives             akima       barycentric   \n",
       "1 error                13.9782           12.6009           11.6009   \n",
       "  method                linear  from_derivatives  from_derivatives   \n",
       "2 error                13.9782           12.6009           11.6009   \n",
       "  method                 naive            linear            linear   \n",
       "3 error                13.9782           12.6009           11.6009   \n",
       "  method                 pchip             naive             naive   \n",
       "4 error                13.9782           12.6009           11.6009   \n",
       "  method  piecewise_polynomial             pchip             pchip   \n",
       "\n",
       "samples                     7                     8                     9   \\\n",
       "0 error                11.0367               9.92715                 9.741   \n",
       "  method      from_derivatives      from_derivatives                linear   \n",
       "1 error                11.0367               9.92715                 9.741   \n",
       "  method  piecewise_polynomial                linear               slinear   \n",
       "2 error                11.0367               9.92715               9.92715   \n",
       "  method               slinear                 naive      from_derivatives   \n",
       "3 error                11.2012               9.92715               9.92715   \n",
       "  method                linear  piecewise_polynomial                 pchip   \n",
       "4 error                11.2012               9.92715               9.92715   \n",
       "  method                 pchip               slinear  piecewise_polynomial   \n",
       "\n",
       "samples                 10          ...                             12  \\\n",
       "0 error            9.92715          ...                        10.4386   \n",
       "  method            linear          ...                          pchip   \n",
       "1 error            9.92715          ...                        13.0367   \n",
       "  method           slinear          ...               from_derivatives   \n",
       "2 error            10.0367          ...                        13.0367   \n",
       "  method             naive          ...           piecewise_polynomial   \n",
       "3 error            10.0367          ...                        13.3233   \n",
       "  method             pchip          ...                         linear   \n",
       "4 error            10.3233          ...                        13.3233   \n",
       "  method  from_derivatives          ...                        slinear   \n",
       "\n",
       "samples                     13                    14       15  \\\n",
       "0 error                12.4386               15.1318  14.3413   \n",
       "  method                 pchip                 pchip    pchip   \n",
       "1 error                 14.741               19.8211  15.9975   \n",
       "  method      from_derivatives                 akima    akima   \n",
       "2 error                 14.741               23.2906  20.5573   \n",
       "  method  piecewise_polynomial      from_derivatives    cubic   \n",
       "3 error                15.4731               23.2906  20.7906   \n",
       "  method                linear  piecewise_polynomial   linear   \n",
       "4 error                15.4731               25.3982  20.7906   \n",
       "  method               slinear                 cubic  slinear   \n",
       "\n",
       "samples                     16                    17         18  \\\n",
       "0 error                10.4386               8.49283    14.7451   \n",
       "  method      from_derivatives      from_derivatives      cubic   \n",
       "1 error                10.4386               8.49283    14.7451   \n",
       "  method                 pchip  piecewise_polynomial  quadratic   \n",
       "2 error                10.4386               9.49283    16.2906   \n",
       "  method  piecewise_polynomial               slinear      pchip   \n",
       "3 error                11.4928               10.4928     17.394   \n",
       "  method                 akima                 akima      akima   \n",
       "4 error                11.7906               10.4928    19.2906   \n",
       "  method                linear                 pchip     linear   \n",
       "\n",
       "samples                 19                    20                    21  \n",
       "0 error            20.7906               21.2906                    15  \n",
       "  method             akima      from_derivatives                 pchip  \n",
       "1 error            20.7906               21.2906                    19  \n",
       "  method            linear                linear      from_derivatives  \n",
       "2 error            21.7906               21.2906                    19  \n",
       "  method       barycentric                 pchip  piecewise_polynomial  \n",
       "3 error            21.7906               21.2906               19.7906  \n",
       "  method  from_derivatives  piecewise_polynomial                linear  \n",
       "4 error            21.7906               21.2906               19.7906  \n",
       "  method             naive               slinear               slinear  \n",
       "\n",
       "[10 rows x 21 columns]"
      ]
     },
     "execution_count": 28,
     "metadata": {},
     "output_type": "execute_result"
    }
   ],
   "source": [
    "# Show the best methods for each number of samples\n",
    "ntop = 5\n",
    "idx = pd.MultiIndex.from_product([['method','error'],range(0,5)])\n",
    "top_methods = median_errors.T.apply(lambda x: pd.Series(pd.concat([pd.Series(x.nsmallest(ntop).index, dtype=np.dtype(object)), pd.Series(x.nsmallest(ntop).values, dtype=np.dtype(object))])))\n",
    "top_methods.set_index(idx, inplace=True)\n",
    "top_methods = top_methods.swaplevel(1,0).sort_index()\n",
    "top_methods"
   ]
  },
  {
   "cell_type": "code",
   "execution_count": null,
   "metadata": {},
   "outputs": [],
   "source": []
  },
  {
   "cell_type": "code",
   "execution_count": null,
   "metadata": {},
   "outputs": [],
   "source": []
  },
  {
   "cell_type": "code",
   "execution_count": null,
   "metadata": {},
   "outputs": [],
   "source": []
  },
  {
   "cell_type": "code",
   "execution_count": null,
   "metadata": {},
   "outputs": [],
   "source": []
  },
  {
   "cell_type": "code",
   "execution_count": null,
   "metadata": {},
   "outputs": [],
   "source": []
  },
  {
   "cell_type": "code",
   "execution_count": null,
   "metadata": {},
   "outputs": [],
   "source": []
  },
  {
   "cell_type": "code",
   "execution_count": null,
   "metadata": {},
   "outputs": [],
   "source": []
  },
  {
   "cell_type": "code",
   "execution_count": null,
   "metadata": {},
   "outputs": [],
   "source": []
  },
  {
   "cell_type": "code",
   "execution_count": null,
   "metadata": {},
   "outputs": [],
   "source": []
  },
  {
   "cell_type": "code",
   "execution_count": null,
   "metadata": {},
   "outputs": [],
   "source": []
  }
 ],
 "metadata": {
  "kernelspec": {
   "display_name": "Python 3",
   "language": "python",
   "name": "python3"
  },
  "language_info": {
   "codemirror_mode": {
    "name": "ipython",
    "version": 3
   },
   "file_extension": ".py",
   "mimetype": "text/x-python",
   "name": "python",
   "nbconvert_exporter": "python",
   "pygments_lexer": "ipython3",
   "version": "3.6.3"
  }
 },
 "nbformat": 4,
 "nbformat_minor": 2
}
