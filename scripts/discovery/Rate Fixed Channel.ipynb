{
 "cells": [
  {
   "cell_type": "code",
   "execution_count": 6,
   "metadata": {},
   "outputs": [],
   "source": [
    "%reload_ext autoreload\n",
    "%autoreload 2\n",
    "%matplotlib inline\n",
    "import matplotlib\n",
    "pgf_with_rc_fonts = {\n",
    "    \"text.usetex\": True,\n",
    "    \"text.latex.unicode\": True,\n",
    "    \"font.family\": \"serif\",\n",
    "    \"font.serif\": [],                   # use latex default serif font\n",
    "    \"font.sans-serif\": [\"DejaVu Sans\"], # use a specific sans-serif font\n",
    "    \"pgf.preamble\": [\n",
    "        r'\\usepackage{amsmath}',\n",
    "        r'\\usepackage{gensymb}',\n",
    "        r'\\usepackage{siunitx}',\n",
    "        r'\\DeclareSIUnit{\\revolution}{rev}',\n",
    "    ]\n",
    "}\n",
    "matplotlib.rcParams.update(pgf_with_rc_fonts)\n",
    "\n",
    "import matplotlib.pyplot as plt\n",
    "\n",
    "import pandas as pd\n",
    "import os\n",
    "\n",
    "# Background Color\n",
    "bg = '#d3e9f8'"
   ]
  },
  {
   "cell_type": "code",
   "execution_count": 31,
   "metadata": {},
   "outputs": [
    {
     "data": {
      "image/png": "[encoded data removed]",
      "text/plain": [
       "<matplotlib.figure.Figure at 0x7f33b0b1a710>"
      ]
     },
     "metadata": {},
     "output_type": "display_data"
    }
   ],
   "source": [
    "dataframes = []    \n",
    "directory = '../../valid/discovery/discovery4/discovery-duration-fixed'\n",
    "\n",
    "# Walk through each subdirectory of working directory\n",
    "for root, dirs, files in os.walk(directory):\n",
    "    for file in files:\n",
    "        if file.endswith(\"-results.csv\"):\n",
    "            dataframes.append(pd.read_csv(os.path.join(root,file),sep=','))\n",
    "\n",
    "df = pd.concat(dataframes, axis=0)\n",
    "\n",
    "data =(df[df.channel == 8].groupby(['duration', 'pass'])['timestamp'].count()/df[df.channel == 8].groupby(['duration', 'pass'])['duration'].max())\n",
    "\n",
    "fig = plt.figure()\n",
    "ax = plt.subplot(111)\n",
    "\n",
    "labels = pd.unique(df.duration.sort_values())\n",
    "\n",
    "bp = ax.boxplot(data.unstack(), 1, labels=labels, patch_artist=True)\n",
    "\n",
    "for box in bp['boxes']:\n",
    "    box.set_facecolor('None')\n",
    "\n",
    "opt = bp['boxes'][1]\n",
    "opt.set_hatch(r'\\\\')\n",
    "opt.set_facecolor(bg)\n",
    "label = f\"Optimal FCRR (median: {round(data[6].median(),2)} \"\n",
    "opt.set_label(label + r\"$\\frac{b}{s}$)\")\n",
    "plt.legend(handles=[opt])\n",
    "\n",
    "plt.xlabel(r'Fixed Channel Rotation Rate (FCRR) ($\\frac{s}{rev}$)')\n",
    "plt.ylabel(r'Beacons Per Second (BPS) ($\\frac{b}{s}$)')\n",
    "fig.savefig('fcrr.pgf')"
   ]
  }
 ],
 "metadata": {
  "kernelspec": {
   "display_name": "Python 3",
   "language": "python",
   "name": "python3"
  },
  "language_info": {
   "codemirror_mode": {
    "name": "ipython",
    "version": 3
   },
   "file_extension": ".py",
   "mimetype": "text/x-python",
   "name": "python",
   "nbconvert_exporter": "python",
   "pygments_lexer": "ipython3",
   "version": "3.6.3"
  }
 },
 "nbformat": 4,
 "nbformat_minor": 2
}
