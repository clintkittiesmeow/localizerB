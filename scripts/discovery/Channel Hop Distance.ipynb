{
 "cells": [
  {
   "cell_type": "code",
   "execution_count": 2,
   "metadata": {},
   "outputs": [],
   "source": [
    "%reload_ext autoreload\n",
    "%autoreload 2\n",
    "%matplotlib inline\n",
    "import matplotlib\n",
    "pgf_with_rc_fonts = {\n",
    "    \"text.usetex\": True,\n",
    "    \"text.latex.unicode\": True,\n",
    "    \"font.family\": \"serif\",\n",
    "    \"font.serif\": [],                   # use latex default serif font\n",
    "    \"font.sans-serif\": [\"DejaVu Sans\"], # use a specific sans-serif font\n",
    "    \"pgf.preamble\": [\n",
    "        r'\\usepackage{amsmath}',\n",
    "        r'\\usepackage{gensymb}',\n",
    "        r'\\usepackage{siunitx}',\n",
    "        r'\\DeclareSIUnit{\\revolution}{rev}',\n",
    "    ]\n",
    "}\n",
    "matplotlib.rcParams.update(pgf_with_rc_fonts)\n",
    "\n",
    "import matplotlib.pyplot as plt\n",
    "\n",
    "import pandas as pd\n",
    "import os\n",
    "\n",
    "# Background Color\n",
    "bg = '#d3e9f8'"
   ]
  },
  {
   "cell_type": "code",
   "execution_count": 24,
   "metadata": {},
   "outputs": [
    {
     "data": {
      "image/png": "[encoded data removed]",
      "text/plain": [
       "<matplotlib.figure.Figure at 0x7f8a542d1ef0>"
      ]
     },
     "metadata": {},
     "output_type": "display_data"
    }
   ],
   "source": [
    "dataframes = []    \n",
    "directory = '../../valid/discovery/discovery3/discovery-hop-dist'\n",
    "\n",
    "# Walk through each subdirectory of working directory\n",
    "for root, dirs, files in os.walk(directory):\n",
    "    for file in files:\n",
    "        if file.endswith(\"-results.csv\"):\n",
    "            dataframes.append(pd.read_csv(os.path.join(root,file),sep=','))\n",
    "\n",
    "df = pd.concat(dataframes, axis=0)\n",
    "\n",
    "data =(df.groupby(['test', 'pass'])['timestamp'].count().sort_index()/df.groupby(['test', 'pass'])['duration'].max().sort_index())\n",
    "\n",
    "fig = plt.figure()\n",
    "ax = plt.subplot(111)\n",
    "\n",
    "labels = [1,2,3]\n",
    "\n",
    "bp = ax.boxplot(data.unstack(), 1, labels=labels, patch_artist=True)\n",
    "\n",
    "for box in bp['boxes']:\n",
    "    box.set_facecolor('None')\n",
    "\n",
    "opt = bp['boxes'][1]\n",
    "opt.set_hatch(r'\\\\')\n",
    "opt.set_facecolor(bg)\n",
    "label = f\"Optimal CHD (median: {format(data['discovery-hop-dist-2'].median(), '.2f')} \"\n",
    "opt.set_label(label + r\"$\\frac{b}{s}$)\")\n",
    "plt.legend(handles=[opt])\n",
    "\n",
    "plt.xlabel(r'Channel Hop Distance (CHD) ($chan$)')\n",
    "plt.ylabel(r'Beacons Per Second (BPS) ($\\frac{b}{s}$)')\n",
    "fig.savefig('chd.pgf')"
   ]
  },
  {
   "cell_type": "code",
   "execution_count": null,
   "metadata": {},
   "outputs": [],
   "source": []
  }
 ],
 "metadata": {
  "kernelspec": {
   "display_name": "Python 3",
   "language": "python",
   "name": "python3"
  },
  "language_info": {
   "codemirror_mode": {
    "name": "ipython",
    "version": 3
   },
   "file_extension": ".py",
   "mimetype": "text/x-python",
   "name": "python",
   "nbconvert_exporter": "python",
   "pygments_lexer": "ipython3",
   "version": "3.6.3"
  }
 },
 "nbformat": 4,
 "nbformat_minor": 2
}
