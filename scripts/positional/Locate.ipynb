{
 "cells": [
  {
   "cell_type": "code",
   "execution_count": 5,
   "metadata": {},
   "outputs": [
    {
     "name": "stdout",
     "output_type": "stream",
     "text": [
      "Dropped 1 outlier coordinate\n"
     ]
    }
   ],
   "source": [
    "%reload_ext autoreload\n",
    "%autoreload 2\n",
    "%matplotlib inline\n",
    "import ingest\n",
    "import numpy as np\n",
    "import pandas as pd\n",
    "df = ingest.setup('../../valid/capture/capture1')"
   ]
  },
  {
   "cell_type": "code",
   "execution_count": 7,
   "metadata": {},
   "outputs": [
    {
     "data": {
      "application/vnd.jupyter.widget-view+json": {
       "model_id": "93fca31fd0634a5fae9bbb5a84e1207f",
       "version_major": 2,
       "version_minor": 0
      },
      "text/html": [
       "<p>Failed to display Jupyter Widget of type <code>HBox</code>.</p>\n",
       "<p>\n",
       "  If you're reading this message in the Jupyter Notebook or JupyterLab Notebook, it may mean\n",
       "  that the widgets JavaScript is still loading. If this message persists, it\n",
       "  likely means that the widgets JavaScript library is either not installed or\n",
       "  not enabled. See the <a href=\"https://ipywidgets.readthedocs.io/en/stable/user_install.html\">Jupyter\n",
       "  Widgets Documentation</a> for setup instructions.\n",
       "</p>\n",
       "<p>\n",
       "  If you're reading this message in another frontend (for example, a static\n",
       "  rendering on GitHub or <a href=\"https://nbviewer.jupyter.org/\">NBViewer</a>),\n",
       "  it may mean that your frontend doesn't currently support widgets.\n",
       "</p>\n"
      ],
      "text/plain": [
       "HBox(children=(IntProgress(value=0, description='Preparing data', max=4342), HTML(value='')))"
      ]
     },
     "metadata": {},
     "output_type": "display_data"
    },
    {
     "name": "stdout",
     "output_type": "stream",
     "text": [
      "\n"
     ]
    },
    {
     "data": {
      "application/vnd.jupyter.widget-view+json": {
       "model_id": "fdb09d57b72548fabc3265fd42a6227d",
       "version_major": 2,
       "version_minor": 0
      },
      "text/html": [
       "<p>Failed to display Jupyter Widget of type <code>HBox</code>.</p>\n",
       "<p>\n",
       "  If you're reading this message in the Jupyter Notebook or JupyterLab Notebook, it may mean\n",
       "  that the widgets JavaScript is still loading. If this message persists, it\n",
       "  likely means that the widgets JavaScript library is either not installed or\n",
       "  not enabled. See the <a href=\"https://ipywidgets.readthedocs.io/en/stable/user_install.html\">Jupyter\n",
       "  Widgets Documentation</a> for setup instructions.\n",
       "</p>\n",
       "<p>\n",
       "  If you're reading this message in another frontend (for example, a static\n",
       "  rendering on GitHub or <a href=\"https://nbviewer.jupyter.org/\">NBViewer</a>),\n",
       "  it may mean that your frontend doesn't currently support widgets.\n",
       "</p>\n"
      ],
      "text/plain": [
       "HBox(children=(IntProgress(value=0, description='Interpolating', max=4342), HTML(value='')))"
      ]
     },
     "metadata": {},
     "output_type": "display_data"
    },
    {
     "name": "stdout",
     "output_type": "stream",
     "text": [
      "\n"
     ]
    }
   ],
   "source": [
    "# Generate bearings for each pass\n",
    "import warnings\n",
    "from localization_error import error, error_methods\n",
    "warnings.filterwarnings('ignore')\n",
    "errors = error(df, 'pchip')"
   ]
  },
  {
   "cell_type": "code",
   "execution_count": 8,
   "metadata": {},
   "outputs": [
    {
     "data": {
      "application/vnd.jupyter.widget-view+json": {
       "model_id": "625c4e163fe141a5abe617b33f748435",
       "version_major": 2,
       "version_minor": 0
      },
      "text/html": [
       "<p>Failed to display Jupyter Widget of type <code>HBox</code>.</p>\n",
       "<p>\n",
       "  If you're reading this message in the Jupyter Notebook or JupyterLab Notebook, it may mean\n",
       "  that the widgets JavaScript is still loading. If this message persists, it\n",
       "  likely means that the widgets JavaScript library is either not installed or\n",
       "  not enabled. See the <a href=\"https://ipywidgets.readthedocs.io/en/stable/user_install.html\">Jupyter\n",
       "  Widgets Documentation</a> for setup instructions.\n",
       "</p>\n",
       "<p>\n",
       "  If you're reading this message in another frontend (for example, a static\n",
       "  rendering on GitHub or <a href=\"https://nbviewer.jupyter.org/\">NBViewer</a>),\n",
       "  it may mean that your frontend doesn't currently support widgets.\n",
       "</p>\n"
      ],
      "text/plain": [
       "HBox(children=(IntProgress(value=0, description='Preparing', max=5848250), HTML(value='')))"
      ]
     },
     "metadata": {},
     "output_type": "display_data"
    },
    {
     "name": "stdout",
     "output_type": "stream",
     "text": [
      "\n"
     ]
    }
   ],
   "source": [
    "from itertools import combinations\n",
    "import vector_error\n",
    "\n",
    "## Process and create location_error.csv - takes hours! Only do this when necessary\n",
    "combs = [x for l in range(2,4) for x in combinations(pd.unique(df.test), l)]\n",
    "vector_errors = vector_error.error(combs, df, errors, 'location_error.csv')"
   ]
  },
  {
   "cell_type": "code",
   "execution_count": 1,
   "metadata": {},
   "outputs": [
    {
     "ename": "NameError",
     "evalue": "name 'pd' is not defined",
     "output_type": "error",
     "traceback": [
      "\u001b[0;31m---------------------------------------------------------------------------\u001b[0m",
      "\u001b[0;31mNameError\u001b[0m                                 Traceback (most recent call last)",
      "\u001b[0;32m<ipython-input-1-3c63cee20063>\u001b[0m in \u001b[0;36m<module>\u001b[0;34m()\u001b[0m\n\u001b[0;32m----> 1\u001b[0;31m \u001b[0mvector_errors\u001b[0m \u001b[0;34m=\u001b[0m \u001b[0mpd\u001b[0m\u001b[0;34m.\u001b[0m\u001b[0mread_csv\u001b[0m\u001b[0;34m(\u001b[0m\u001b[0;34m'location_error.csv'\u001b[0m\u001b[0;34m)\u001b[0m\u001b[0;34m\u001b[0m\u001b[0m\n\u001b[0m",
      "\u001b[0;31mNameError\u001b[0m: name 'pd' is not defined"
     ]
    }
   ],
   "source": [
    "vector_errors = pd.read_csv('location_error.csv')"
   ]
  },
  {
   "cell_type": "code",
   "execution_count": 120,
   "metadata": {},
   "outputs": [
    {
     "data": {
      "text/html": [
       "<iframe id=\"igraph\" scrolling=\"no\" style=\"border:none;\" seamless=\"seamless\" src=\"https://plot.ly/~elBradford/6.embed\" height=\"525px\" width=\"100%\"></iframe>"
      ],
      "text/plain": [
       "<plotly.tools.PlotlyDisplay object>"
      ]
     },
     "execution_count": 120,
     "metadata": {},
     "output_type": "execute_result"
    }
   ],
   "source": [
    "import plotly.plotly as py\n",
    "from plotly.graph_objs import *\n",
    "\n",
    "import pandas as pd\n",
    "\n",
    "mapbox_access_token = 'pk.eyJ1IjoiZWxicmFkZm9yZCIsImEiOiJjamNoMTgzcm0yMW9uMzNtdHQxMGVmMm85In0.3Meb68eWCi1bDyuKvvB9JQ'\n",
    "\n",
    "TEST_LOCS = {test: vectors.get_point(test) for test in pd.unique(df.test)}\n",
    "BSSID_LOCS = {bssid: capmap.get_bssid_coord(bssid) for bssid in pd.unique(df.bssid)}\n",
    "\n",
    "data = Data([\n",
    "    Scattermapbox(\n",
    "        lat=vector_errors.,\n",
    "        lon=,\n",
    "        mode='markers',\n",
    "        marker=Marker(\n",
    "            size=1,\n",
    "            color='rgb(255, 0, 0)',\n",
    "            opacity=0.7\n",
    "        ),\n",
    "    ),\n",
    "    Scattermapbox(\n",
    "        lat=[coord.ravel()[0] for coord in TEST_LOCS.values()],\n",
    "        lon=[coord.ravel()[1] for coord in TEST_LOCS.values()],\n",
    "        mode='markers',\n",
    "        marker=Marker(\n",
    "            size=17,\n",
    "            color='rgb(255, 0, 0)',\n",
    "            opacity=0.7\n",
    "        ),\n",
    "        text=list(BSSID_LOCS.keys()),\n",
    "        hoverinfo='text'\n",
    "    ),\n",
    "    Scattermapbox(\n",
    "        lat=[coord.ravel()[0] for coord in BSSID_LOCS.values()],\n",
    "        lon=[coord.ravel()[1] for coord in BSSID_LOCS.values()],\n",
    "        mode='markers',\n",
    "        marker=Marker(\n",
    "            size=17,\n",
    "            color='rgb(0, 0, 255)',\n",
    "            opacity=0.7\n",
    "        ),\n",
    "        text=list(TEST_LOCS.keys()),\n",
    "        hoverinfo='text'\n",
    "    )]\n",
    ")\n",
    "    \n",
    "layout = Layout(\n",
    "    title='Test Locations',\n",
    "    autosize=True,\n",
    "    hovermode='closest',\n",
    "    showlegend=False,\n",
    "    mapbox=dict(\n",
    "        accesstoken=mapbox_access_token,\n",
    "        bearing=0,\n",
    "        center=dict(\n",
    "            lat=39.782765,\n",
    "            lon=-84.083040\n",
    "        ),\n",
    "        pitch=0,\n",
    "        zoom=16.5,\n",
    "        style='satellite'\n",
    "    ),\n",
    ")\n",
    "\n",
    "fig = dict(data=data, layout=layout)\n",
    "\n",
    "py.iplot(fig, filename='Experiment Environment')\n"
   ]
  },
  {
   "cell_type": "code",
   "execution_count": 12,
   "metadata": {},
   "outputs": [
    {
     "data": {
      "image/png": "[encoded data removed]",
      "text/plain": [
       "<matplotlib.figure.Figure at 0x7f7ac9be66a0>"
      ]
     },
     "metadata": {},
     "output_type": "display_data"
    },
    {
     "name": "stdout",
     "output_type": "stream",
     "text": [
      "RESEARCH_MULLINS_7\n"
     ]
    }
   ],
   "source": [
    "import vectors, capmap\n",
    "\n",
    "# Get 3 random results from the errors list\n",
    "index = len(pd.unique(errors['pass']))\n",
    "passes = np.random.randint(index,size=(3,1))\n",
    "bssids = pd.unique(errors.bssid)\n",
    "bssid = bssids[np.random.randint(len(bssids))]\n",
    "rays = []\n",
    "for i, p in enumerate(passes):\n",
    "    p = errors[(errors['test']=='capture-'+str(i+1)) & (errors['pass']==p[0]) & (errors['method']=='pchip') & (errors['bssid']==bssid)]\n",
    "    lat = p.lat.values[0]\n",
    "    lon = p.lon.values[0]\n",
    "    bearing = p.bearing.values[0]\n",
    "    S = np.array([[lon, lat]])\n",
    "    D = vectors.bearing_to_vector(bearing)\n",
    "    rays.append((S,D))\n",
    "\n",
    "# Get an origin\n",
    "ray_start_positions = []    \n",
    "for ray in rays:\n",
    "    ray_start_positions.append(ray[0])\n",
    "origin = np.stack(ray_start_positions).mean(axis=0)\n",
    "\n",
    "# Get an object location\n",
    "_lat = pd.unique(capmap.bearings[capmap.bearings['bssid'] == bssid]['lat_ap'])[0]\n",
    "_lon = pd.unique(capmap.bearings[capmap.bearings['bssid'] == bssid]['lon_ap'])[0]\n",
    "obj = np.array([[_lon, _lat]])\n",
    "\n",
    "vectors.locate_real_rays(rays, origin, obj)\n",
    "print(capmap.get_names_from_bssid(bssid, True))"
   ]
  },
  {
   "cell_type": "code",
   "execution_count": null,
   "metadata": {},
   "outputs": [],
   "source": []
  },
  {
   "cell_type": "code",
   "execution_count": null,
   "metadata": {},
   "outputs": [],
   "source": []
  }
 ],
 "metadata": {
  "kernelspec": {
   "display_name": "Python 3",
   "language": "python",
   "name": "python3"
  },
  "language_info": {
   "codemirror_mode": {
    "name": "ipython",
    "version": 3
   },
   "file_extension": ".py",
   "mimetype": "text/x-python",
   "name": "python",
   "nbconvert_exporter": "python",
   "pygments_lexer": "ipython3",
   "version": "3.6.3"
  }
 },
 "nbformat": 4,
 "nbformat_minor": 2
}
