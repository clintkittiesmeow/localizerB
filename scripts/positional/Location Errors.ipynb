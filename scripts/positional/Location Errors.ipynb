{
 "cells": [
  {
   "cell_type": "code",
   "execution_count": 1,
   "metadata": {},
   "outputs": [
    {
     "name": "stdout",
     "output_type": "stream",
     "text": [
      "Dropped 1 outlier coordinate\n"
     ]
    }
   ],
   "source": [
    "%reload_ext autoreload\n",
    "%autoreload 2\n",
    "%matplotlib inline\n",
    "import matplotlib\n",
    "pgf_with_rc_fonts = {\n",
    "    \"text.usetex\": True,\n",
    "    \"text.latex.unicode\": True,\n",
    "    \"font.family\": \"serif\",\n",
    "    \"font.serif\": [],                   # use latex default serif font\n",
    "    \"font.sans-serif\": [\"DejaVu Sans\"], # use a specific sans-serif font\n",
    "    \"pgf.preamble\": [\n",
    "        r'\\usepackage{amsmath}',\n",
    "        r'\\usepackage{gensymb}',\n",
    "        r'\\usepackage{siunitx}',\n",
    "        r'\\DeclareSIUnit{\\revolution}{rev}',\n",
    "    ]\n",
    "}\n",
    "matplotlib.rcParams.update(pgf_with_rc_fonts)\n",
    "\n",
    "import matplotlib.pyplot as plt\n",
    "\n",
    "import pandas as pd\n",
    "import os\n",
    "\n",
    "# Background Color\n",
    "bg = '#d3e9f8'\n",
    "\n",
    "import ingest\n",
    "import numpy as np\n",
    "import ingest\n",
    "\n",
    "df = ingest.setup('../../valid/capture/capture1')"
   ]
  },
  {
   "cell_type": "code",
   "execution_count": 2,
   "metadata": {},
   "outputs": [
    {
     "data": {
      "application/vnd.jupyter.widget-view+json": {
       "model_id": "495ec3d8b7d145518fc49bf231396ccf",
       "version_major": 2,
       "version_minor": 0
      },
      "text/html": [
       "<p>Failed to display Jupyter Widget of type <code>HBox</code>.</p>\n",
       "<p>\n",
       "  If you're reading this message in the Jupyter Notebook or JupyterLab Notebook, it may mean\n",
       "  that the widgets JavaScript is still loading. If this message persists, it\n",
       "  likely means that the widgets JavaScript library is either not installed or\n",
       "  not enabled. See the <a href=\"https://ipywidgets.readthedocs.io/en/stable/user_install.html\">Jupyter\n",
       "  Widgets Documentation</a> for setup instructions.\n",
       "</p>\n",
       "<p>\n",
       "  If you're reading this message in another frontend (for example, a static\n",
       "  rendering on GitHub or <a href=\"https://nbviewer.jupyter.org/\">NBViewer</a>),\n",
       "  it may mean that your frontend doesn't currently support widgets.\n",
       "</p>\n"
      ],
      "text/plain": [
       "HBox(children=(IntProgress(value=0, description='Preparing data', max=4342), HTML(value='')))"
      ]
     },
     "metadata": {},
     "output_type": "display_data"
    },
    {
     "name": "stdout",
     "output_type": "stream",
     "text": [
      "\n"
     ]
    },
    {
     "data": {
      "application/vnd.jupyter.widget-view+json": {
       "model_id": "9a68efc5deb244a28d3d112655666aa5",
       "version_major": 2,
       "version_minor": 0
      },
      "text/html": [
       "<p>Failed to display Jupyter Widget of type <code>HBox</code>.</p>\n",
       "<p>\n",
       "  If you're reading this message in the Jupyter Notebook or JupyterLab Notebook, it may mean\n",
       "  that the widgets JavaScript is still loading. If this message persists, it\n",
       "  likely means that the widgets JavaScript library is either not installed or\n",
       "  not enabled. See the <a href=\"https://ipywidgets.readthedocs.io/en/stable/user_install.html\">Jupyter\n",
       "  Widgets Documentation</a> for setup instructions.\n",
       "</p>\n",
       "<p>\n",
       "  If you're reading this message in another frontend (for example, a static\n",
       "  rendering on GitHub or <a href=\"https://nbviewer.jupyter.org/\">NBViewer</a>),\n",
       "  it may mean that your frontend doesn't currently support widgets.\n",
       "</p>\n"
      ],
      "text/plain": [
       "HBox(children=(IntProgress(value=0, description='Interpolating', max=4342), HTML(value='')))"
      ]
     },
     "metadata": {},
     "output_type": "display_data"
    },
    {
     "name": "stdout",
     "output_type": "stream",
     "text": [
      "\n"
     ]
    }
   ],
   "source": [
    "# Generate bearings for each pass\n",
    "import warnings\n",
    "from bearing_error import error, error_methods\n",
    "warnings.filterwarnings('ignore')\n",
    "errors = error(df, 'PCHIP')"
   ]
  },
  {
   "cell_type": "code",
   "execution_count": 3,
   "metadata": {},
   "outputs": [],
   "source": [
    "# from itertools import combinations\n",
    "# import location_error\n",
    "\n",
    "# # Process and create location_error.csv - takes hours! Only do this when necessary\n",
    "# combs = [x for l in range(2,4) for x in combinations(pd.unique(df.test), l)]\n",
    "# vector_errors = location_error.error(combs, df, errors, 'location_error.csv')"
   ]
  },
  {
   "cell_type": "code",
   "execution_count": 4,
   "metadata": {},
   "outputs": [],
   "source": [
    "def fconv(val):\n",
    "    try: \n",
    "        return float(val)\n",
    "    except ValueError:\n",
    "        return -1\n",
    "\n",
    "\n",
    "def iconv(val):\n",
    "    try: \n",
    "        return int(val)\n",
    "    except ValueError:\n",
    "        return -1\n",
    "\n",
    "\n",
    "columns = ['test0', 'test1', 'test2', 'pass0', 'pass1', 'bssid', 'sample0', 'sample1', 'ray0_p_lat', 'ray0_p_lon', 'ray0_d_lat', 'ray0_d_lon', 'ray1_p_lat', 'ray1_p_lon', 'ray1_d_lat', 'ray1_d_lon', 'guess_lat', 'guess_lon', 'error_lat', 'error_lon', 'error_distance', 'mean_origin_distance']\n",
    "obj = float\n",
    "converters = {'pass2': iconv,\n",
    "              'sample2': iconv,\n",
    "              'samples': iconv,\n",
    "              'ray2_p_lat': fconv,\n",
    "              'ray2_p_lon': fconv,\n",
    "              'ray2_d_lat': fconv,\n",
    "              'ray2_d_lon': fconv,\n",
    "             }\n",
    "types = [str, str, str, int, int, str, int, int, obj, obj, obj, obj, obj, obj, obj, obj, float, float, float, float, float, float]\n",
    "dtype = dict(zip(columns, types))\n",
    "vector_errors = pd.read_csv('location_error.csv', converters=converters, dtype=dtype)"
   ]
  },
  {
   "cell_type": "code",
   "execution_count": 23,
   "metadata": {},
   "outputs": [
    {
     "data": {
      "image/png": "[encoded data removed]",
      "text/plain": [
       "<matplotlib.figure.Figure at 0x7f501a86eba8>"
      ]
     },
     "metadata": {},
     "output_type": "display_data"
    }
   ],
   "source": [
    "max_error = 500\n",
    "min_dist_origin = 1\n",
    "\n",
    "ve_filtered = vector_errors[(vector_errors['mean_origin_distance'] > min_dist_origin) & (vector_errors['error_distance'] < max_error)]\n",
    "ve2 = ve_filtered[ve_filtered.test2.isnull()]['error_distance']\n",
    "ve3 = ve_filtered[ve_filtered.test2.notnull()]['error_distance']\n",
    "len_3 = len(ve3)\n",
    "len_2 = len(ve2)\n",
    "_n = 100000\n",
    "ve2_sub = np.random.choice(ve2, (_n))\n",
    "# ve2_sub = ve2_sub[ve2_sub<250]\n",
    "ve3_sub = np.random.choice(ve3, (_n))\n",
    "# ve3_sub = ve3_sub[ve3_sub<250]\n",
    "\n",
    "f, (ax1, ax2) = plt.subplots(2, sharex=True)\n",
    "\n",
    "ax1.hist(ve2_sub, 50, label='Two-Capture ({:,} samples)'.format(len_2), density=True)\n",
    "ax1.legend()\n",
    "\n",
    "ax2.hist(ve3_sub, 50, label='Three-Capture ({:,} samples)'.format(len_3), color='C2', density=True)\n",
    "ax2.legend()\n",
    "\n",
    "plt.rcParams[\"figure.figsize\"] = [11, 7]\n",
    "\n",
    "plt.xlabel(r'Location Error (LE)  ($m$)')\n",
    "f.text(0.05, 0.5, r'Error Density', va='center', rotation=-90)\n",
    "\n",
    "\n",
    "f.savefig('location_hist2.pgf')\n"
   ]
  },
  {
   "cell_type": "code",
   "execution_count": 22,
   "metadata": {},
   "outputs": [
    {
     "data": {
      "image/png": "[encoded data removed]",
      "text/plain": [
       "<matplotlib.figure.Figure at 0x7f50281a2668>"
      ]
     },
     "metadata": {},
     "output_type": "display_data"
    }
   ],
   "source": [
    "ve2 = vector_errors[vector_errors.test2.isnull()]['error_distance']\n",
    "ve3 = vector_errors[vector_errors.test2.notnull()]['error_distance']\n",
    "len_3 = len(ve3)\n",
    "len_2 = len(ve2)\n",
    "_n = 100000\n",
    "ve2_sub = np.random.choice(ve2, (_n))\n",
    "# ve2_sub = ve2_sub[ve2_sub<250]\n",
    "ve3_sub = np.random.choice(ve3, (_n))\n",
    "# ve3_sub = ve3_sub[ve3_sub<250]\n",
    "\n",
    "f, (ax1, ax2) = plt.subplots(2, sharex=True)\n",
    "\n",
    "ax1.hist(ve2_sub, 50, label='Two-Capture ({:,} samples)'.format(len_2), density=True)\n",
    "ax1.legend()\n",
    "\n",
    "ax2.hist(ve3_sub, 50, label='Three-Capture ({:,} samples)'.format(len_3), color='C2', density=True)\n",
    "ax2.legend()\n",
    "\n",
    "plt.rcParams[\"figure.figsize\"] = [11, 7]\n",
    "\n",
    "plt.xlabel(r'Location Error (LE)  ($m$)')\n",
    "f.text(0.05, 0.5, r'Error Density', va='center', rotation=-90)\n",
    "\n",
    "f.savefig('location_hist.pgf')\n"
   ]
  },
  {
   "cell_type": "code",
   "execution_count": 81,
   "metadata": {},
   "outputs": [
    {
     "name": "stdout",
     "output_type": "stream",
     "text": [
      "RESEARCH_MULLINS_1\n",
      "9.24272971448\n"
     ]
    },
    {
     "data": {
      "image/png": "[encoded data removed]",
      "text/plain": [
       "<matplotlib.figure.Figure at 0x7f50282616a0>"
      ]
     },
     "metadata": {},
     "output_type": "display_data"
    }
   ],
   "source": [
    "import vectors, capmap, random\n",
    "from matplotlib.ticker import FormatStrFormatter\n",
    "\n",
    "\n",
    "# Get 3 random results from the errors list\n",
    "index = len(pd.unique(errors['pass']))\n",
    "passes = np.random.randint(index,size=(3,1)).ravel()\n",
    "columns = ['test0', 'test1', 'test2', 'pass0', 'pass1', 'pass2', 'bssid', 'sample0', 'sample1', 'sample2',\n",
    "           'samples', \n",
    "           'ray0_p_lat', 'ray0_p_lon', 'ray0_d_lat', 'ray0_d_lon', \n",
    "           'ray1_p_lat', 'ray1_p_lon', 'ray1_d_lat', 'ray1_d_lon', \n",
    "           'ray2_p_lat', 'ray2_p_lon', 'ray2_d_lat', 'ray2_d_lon', \n",
    "           \n",
    "           'guess_lat', 'guess_lon', 'error_lat', 'error_lon', 'error_distance']\n",
    "\n",
    "# 3 Tests\n",
    "s = vector_errors[(vector_errors.test2.notnull())]\n",
    "#p = vector_errors.ix[random.sample(list(s.index),1)].iloc[0]\n",
    "p = s.sort_values('error_distance').iloc[40]\n",
    "#p = s.sort_values('error_distance', ascending=False).iloc[50000]\n",
    "bssid = p.bssid\n",
    "S0 = np.array([[p.ray0_p_lon, p.ray0_p_lat]])\n",
    "D0 = np.array([[p.ray0_d_lon, p.ray0_d_lat]])\n",
    "\n",
    "S1 = np.array([[p.ray1_p_lon, p.ray1_p_lat]])\n",
    "D1 = np.array([[p.ray1_d_lon, p.ray1_d_lat]])\n",
    "\n",
    "S2 = np.array([[p.ray2_p_lon, p.ray2_p_lat]])\n",
    "D2 = np.array([[p.ray2_d_lon, p.ray2_d_lat]])\n",
    "\n",
    "rays = [(S0, D0), (S1, D1), (S2, D2)]\n",
    "\n",
    "# Get an origin\n",
    "ray_start_positions = []    \n",
    "for ray in rays:\n",
    "    ray_start_positions.append(ray[0])\n",
    "origin = np.stack(ray_start_positions).mean(axis=0)\n",
    "\n",
    "# Get an object location\n",
    "_lat = pd.unique(capmap.bearings[capmap.bearings['bssid'] == bssid]['lat_ap'])[0]\n",
    "_lon = pd.unique(capmap.bearings[capmap.bearings['bssid'] == bssid]['lon_ap'])[0]\n",
    "obj = np.array([[_lon, _lat]])\n",
    "\n",
    "ax, fig = vectors.locate_real_rays(rays, obj)\n",
    "\n",
    "# ax.set_yticklabels([])\n",
    "# ax.set_xticklabels([])\n",
    "# ax.tick_params(axis='both', which=u'both',length=0)\n",
    "ax.legend()\n",
    "lon = ax.xaxis\n",
    "lat = ax.yaxis\n",
    "lon.set_major_formatter(FormatStrFormatter('%.5f'))\n",
    "lon.set_major_locator(LinearLocator(numticks=5))\n",
    "lat.set_major_formatter(FormatStrFormatter('%.5f'))\n",
    "lat.set_major_locator(LinearLocator(numticks=5))\n",
    "\n",
    "plt.xlabel(r'Longitude')\n",
    "plt.ylabel(r'Latitude')\n",
    "\n",
    "plt.rcParams[\"figure.figsize\"] = [4, 4]\n",
    "\n",
    "fig.savefig('good_example.pgf', bbox_inches = 'tight')\n",
    "\n",
    "\n",
    "\n",
    "print(capmap.get_names_from_bssid(bssid, True))\n",
    "print(p.error_distance)"
   ]
  },
  {
   "cell_type": "code",
   "execution_count": 82,
   "metadata": {},
   "outputs": [
    {
     "name": "stdout",
     "output_type": "stream",
     "text": [
      "RESEARCH_MULLINS_6\n",
      "453.779444397\n"
     ]
    },
    {
     "data": {
      "image/png": "[encoded data removed]",
      "text/plain": [
       "<matplotlib.figure.Figure at 0x7f5053fd7710>"
      ]
     },
     "metadata": {},
     "output_type": "display_data"
    }
   ],
   "source": [
    "import vectors, capmap, random\n",
    "from matplotlib.ticker import FormatStrFormatter\n",
    "\n",
    "\n",
    "# Get 3 random results from the errors list\n",
    "index = len(pd.unique(errors['pass']))\n",
    "passes = np.random.randint(index,size=(3,1)).ravel()\n",
    "columns = ['test0', 'test1', 'test2', 'pass0', 'pass1', 'pass2', 'bssid', 'sample0', 'sample1', 'sample2',\n",
    "           'samples', \n",
    "           'ray0_p_lat', 'ray0_p_lon', 'ray0_d_lat', 'ray0_d_lon', \n",
    "           'ray1_p_lat', 'ray1_p_lon', 'ray1_d_lat', 'ray1_d_lon', \n",
    "           'ray2_p_lat', 'ray2_p_lon', 'ray2_d_lat', 'ray2_d_lon', \n",
    "           \n",
    "           'guess_lat', 'guess_lon', 'error_lat', 'error_lon', 'error_distance']\n",
    "\n",
    "# 3 Tests\n",
    "s = vector_errors[(vector_errors.test2.notnull())]\n",
    "#p = vector_errors.ix[random.sample(list(s.index),1)].iloc[0]\n",
    "#p = s.sort_values('error_distance').iloc[40]\n",
    "p = s.sort_values('error_distance', ascending=False).iloc[200000]\n",
    "bssid = p.bssid\n",
    "S0 = np.array([[p.ray0_p_lon, p.ray0_p_lat]])\n",
    "D0 = np.array([[p.ray0_d_lon, p.ray0_d_lat]])\n",
    "\n",
    "S1 = np.array([[p.ray1_p_lon, p.ray1_p_lat]])\n",
    "D1 = np.array([[p.ray1_d_lon, p.ray1_d_lat]])\n",
    "\n",
    "S2 = np.array([[p.ray2_p_lon, p.ray2_p_lat]])\n",
    "D2 = np.array([[p.ray2_d_lon, p.ray2_d_lat]])\n",
    "\n",
    "rays = [(S0, D0), (S1, D1), (S2, D2)]\n",
    "\n",
    "# Get an origin\n",
    "ray_start_positions = []    \n",
    "for ray in rays:\n",
    "    ray_start_positions.append(ray[0])\n",
    "origin = np.stack(ray_start_positions).mean(axis=0)\n",
    "\n",
    "# Get an object location\n",
    "_lat = pd.unique(capmap.bearings[capmap.bearings['bssid'] == bssid]['lat_ap'])[0]\n",
    "_lon = pd.unique(capmap.bearings[capmap.bearings['bssid'] == bssid]['lon_ap'])[0]\n",
    "obj = np.array([[_lon, _lat]])\n",
    "\n",
    "ax, fig = vectors.locate_real_rays(rays, obj)\n",
    "\n",
    "# ax.set_yticklabels([])\n",
    "# ax.set_xticklabels([])\n",
    "# ax.tick_params(axis='both', which=u'both',length=0)\n",
    "ax.legend()\n",
    "lon = ax.xaxis\n",
    "lat = ax.yaxis\n",
    "lon.set_major_formatter(FormatStrFormatter('%.4f'))\n",
    "lon.set_major_locator(LinearLocator(numticks=5))\n",
    "lat.set_major_formatter(FormatStrFormatter('%.4f'))\n",
    "lat.set_major_locator(LinearLocator(numticks=5))\n",
    "\n",
    "plt.xlabel(r'Longitude')\n",
    "plt.ylabel(r'Latitude')\n",
    "plt.rcParams[\"figure.figsize\"] = [4, 4]\n",
    "\n",
    "\n",
    "fig.savefig('bad_example.pgf', bbox_inches = 'tight')\n",
    "\n",
    "\n",
    "\n",
    "print(capmap.get_names_from_bssid(bssid, True))\n",
    "print(p.error_distance)"
   ]
  },
  {
   "cell_type": "code",
   "execution_count": 77,
   "metadata": {},
   "outputs": [
    {
     "name": "stdout",
     "output_type": "stream",
     "text": [
      "RESEARCH_MULLINS_1\n",
      "1130.96875263\n"
     ]
    },
    {
     "data": {
      "image/png": "[encoded data removed]",
      "text/plain": [
       "<matplotlib.figure.Figure at 0x7f501a81bb70>"
      ]
     },
     "metadata": {},
     "output_type": "display_data"
    }
   ],
   "source": [
    "import vectors, capmap, random\n",
    "from matplotlib.ticker import FormatStrFormatter, LinearLocator, ScalarFormatter\n",
    "\n",
    "\n",
    "# Get 3 random results from the errors list\n",
    "index = len(pd.unique(errors['pass']))\n",
    "passes = np.random.randint(index,size=(3,1)).ravel()\n",
    "columns = ['test0', 'test1', 'test2', 'pass0', 'pass1', 'pass2', 'bssid', 'sample0', 'sample1', 'sample2',\n",
    "           'samples', \n",
    "           'ray0_p_lat', 'ray0_p_lon', 'ray0_d_lat', 'ray0_d_lon', \n",
    "           'ray1_p_lat', 'ray1_p_lon', 'ray1_d_lat', 'ray1_d_lon', \n",
    "           'ray2_p_lat', 'ray2_p_lon', 'ray2_d_lat', 'ray2_d_lon', \n",
    "           \n",
    "           'guess_lat', 'guess_lon', 'error_lat', 'error_lon', 'error_distance']\n",
    "\n",
    "# 3 Tests\n",
    "s = vector_errors[(vector_errors.test2.notnull())]\n",
    "#p = vector_errors.ix[random.sample(list(s.index),1)].iloc[0]\n",
    "#p = s.sort_values('error_distance').iloc[40]\n",
    "p = s.sort_values('error_distance', ascending=False).iloc[1]\n",
    "bssid = p.bssid\n",
    "S0 = np.array([[p.ray0_p_lon, p.ray0_p_lat]])\n",
    "D0 = np.array([[p.ray0_d_lon, p.ray0_d_lat]])\n",
    "\n",
    "S1 = np.array([[p.ray1_p_lon, p.ray1_p_lat]])\n",
    "D1 = np.array([[p.ray1_d_lon, p.ray1_d_lat]])\n",
    "\n",
    "S2 = np.array([[p.ray2_p_lon, p.ray2_p_lat]])\n",
    "D2 = np.array([[p.ray2_d_lon, p.ray2_d_lat]])\n",
    "\n",
    "rays = [(S0, D0), (S1, D1), (S2, D2)]\n",
    "\n",
    "# Get an origin\n",
    "ray_start_positions = []    \n",
    "for ray in rays:\n",
    "    ray_start_positions.append(ray[0])\n",
    "origin = np.stack(ray_start_positions).mean(axis=0)\n",
    "\n",
    "# Get an object location\n",
    "_lat = pd.unique(capmap.bearings[capmap.bearings['bssid'] == bssid]['lat_ap'])[0]\n",
    "_lon = pd.unique(capmap.bearings[capmap.bearings['bssid'] == bssid]['lon_ap'])[0]\n",
    "obj = np.array([[_lon, _lat]])\n",
    "\n",
    "ax, fig = vectors.locate_real_rays(rays, obj)\n",
    "# ax.set_yticklabels([])\n",
    "# ax.set_xticklabels([])\n",
    "# ax.tick_params(axis='both', which=u'both',length=0)\n",
    "ax.legend()\n",
    "lon = ax.xaxis\n",
    "lat = ax.yaxis\n",
    "lon.set_major_formatter(FormatStrFormatter('%.4f'))\n",
    "lon.set_major_locator(LinearLocator(numticks=5))\n",
    "lat.set_major_formatter(FormatStrFormatter('%.4f'))\n",
    "lat.set_major_locator(LinearLocator(numticks=5))\n",
    "\n",
    "plt.xlabel(r'Longitude')\n",
    "plt.ylabel(r'Latitude')\n",
    "plt.rcParams[\"figure.figsize\"] = [4, 4]\n",
    "\n",
    "\n",
    "fig.savefig('real_bad_example.pgf', bbox_inches = 'tight')\n",
    "\n",
    "\n",
    "\n",
    "print(capmap.get_names_from_bssid(bssid, True))\n",
    "print(p.error_distance)"
   ]
  },
  {
   "cell_type": "code",
   "execution_count": null,
   "metadata": {},
   "outputs": [],
   "source": []
  },
  {
   "cell_type": "code",
   "execution_count": null,
   "metadata": {},
   "outputs": [],
   "source": []
  }
 ],
 "metadata": {
  "kernelspec": {
   "display_name": "Python 3",
   "language": "python",
   "name": "python3"
  },
  "language_info": {
   "codemirror_mode": {
    "name": "ipython",
    "version": 3
   },
   "file_extension": ".py",
   "mimetype": "text/x-python",
   "name": "python",
   "nbconvert_exporter": "python",
   "pygments_lexer": "ipython3",
   "version": "3.6.3"
  }
 },
 "nbformat": 4,
 "nbformat_minor": 2
}
