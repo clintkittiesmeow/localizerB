{
 "cells": [
  {
   "cell_type": "code",
   "execution_count": 3,
   "metadata": {
    "collapsed": true
   },
   "outputs": [
    {
     "name": "stdout",
     "output_type": "stream",
     "text": [
      "Dropped 11 outlier coordinates\n",
      "Dropped 2 outlier coordinates\n"
     ]
    }
   ],
   "source": [
    "%reload_ext autoreload\n",
    "%autoreload 2\n",
    "%matplotlib inline\n",
    "import matplotlib\n",
    "pgf_with_rc_fonts = {\n",
    "    \"text.usetex\": True,\n",
    "    \"text.latex.unicode\": True,\n",
    "    \"font.family\": \"serif\",\n",
    "    \"font.serif\": [],                   # use latex default serif font\n",
    "    \"font.sans-serif\": [\"DejaVu Sans\"], # use a specific sans-serif font\n",
    "    \"pgf.preamble\": [\n",
    "        r'\\usepackage{amsmath}',\n",
    "        r'\\usepackage{gensymb}',\n",
    "        r'\\usepackage{siunitx}',\n",
    "        r'\\DeclareSIUnit{\\revolution}{rev}',\n",
    "    ]\n",
    "}\n",
    "matplotlib.rcParams.update(pgf_with_rc_fonts)\n",
    "\n",
    "import matplotlib.pyplot as plt\n",
    "\n",
    "import pandas as pd\n",
    "import os\n",
    "\n",
    "# Background Color\n",
    "bg = '#d3e9f8'\n",
    "import ingest\n",
    "import numpy as np\n",
    "df = ingest.setup('../../valid/capture/capture2')"
   ]
  },
  {
   "cell_type": "code",
   "execution_count": 4,
   "metadata": {},
   "outputs": [
    {
     "data": {
      "application/vnd.jupyter.widget-view+json": {
       "model_id": "0e8cfc31ae5c4ab0a69b3877e76af0b6",
       "version_major": 2,
       "version_minor": 0
      },
      "text/html": [
       "<p>Failed to display Jupyter Widget of type <code>HBox</code>.</p>\n",
       "<p>\n",
       "  If you're reading this message in the Jupyter Notebook or JupyterLab Notebook, it may mean\n",
       "  that the widgets JavaScript is still loading. If this message persists, it\n",
       "  likely means that the widgets JavaScript library is either not installed or\n",
       "  not enabled. See the <a href=\"https://ipywidgets.readthedocs.io/en/stable/user_install.html\">Jupyter\n",
       "  Widgets Documentation</a> for setup instructions.\n",
       "</p>\n",
       "<p>\n",
       "  If you're reading this message in another frontend (for example, a static\n",
       "  rendering on GitHub or <a href=\"https://nbviewer.jupyter.org/\">NBViewer</a>),\n",
       "  it may mean that your frontend doesn't currently support widgets.\n",
       "</p>\n"
      ],
      "text/plain": [
       "HBox(children=(IntProgress(value=0, description='Preparing data', max=580), HTML(value='')))"
      ]
     },
     "metadata": {},
     "output_type": "display_data"
    },
    {
     "name": "stdout",
     "output_type": "stream",
     "text": [
      "\n"
     ]
    },
    {
     "data": {
      "application/vnd.jupyter.widget-view+json": {
       "model_id": "859448707932417c8f3644dc107d0613",
       "version_major": 2,
       "version_minor": 0
      },
      "text/html": [
       "<p>Failed to display Jupyter Widget of type <code>HBox</code>.</p>\n",
       "<p>\n",
       "  If you're reading this message in the Jupyter Notebook or JupyterLab Notebook, it may mean\n",
       "  that the widgets JavaScript is still loading. If this message persists, it\n",
       "  likely means that the widgets JavaScript library is either not installed or\n",
       "  not enabled. See the <a href=\"https://ipywidgets.readthedocs.io/en/stable/user_install.html\">Jupyter\n",
       "  Widgets Documentation</a> for setup instructions.\n",
       "</p>\n",
       "<p>\n",
       "  If you're reading this message in another frontend (for example, a static\n",
       "  rendering on GitHub or <a href=\"https://nbviewer.jupyter.org/\">NBViewer</a>),\n",
       "  it may mean that your frontend doesn't currently support widgets.\n",
       "</p>\n"
      ],
      "text/plain": [
       "HBox(children=(IntProgress(value=0, description='Interpolating', max=104400), HTML(value='')))"
      ]
     },
     "metadata": {},
     "output_type": "display_data"
    },
    {
     "name": "stdout",
     "output_type": "stream",
     "text": [
      "\n"
     ]
    }
   ],
   "source": [
    "import warnings\n",
    "import error_by_width\n",
    "warnings.filterwarnings('ignore')\n",
    "widths = [(-i,i) for i in range(1,181)]\n",
    "errors = error_by_width.error(widths, df)\n"
   ]
  },
  {
   "cell_type": "code",
   "execution_count": 12,
   "metadata": {},
   "outputs": [
    {
     "data": {
      "image/png": "[encoded data removed]",
      "text/plain": [
       "<matplotlib.figure.Figure at 0x7f66ff510c50>"
      ]
     },
     "metadata": {},
     "output_type": "display_data"
    }
   ],
   "source": [
    "# Print the median results by method\n",
    "#errors_display = errors.groupby('width')['error'].apply(lambda x: pd.Series.median(pd.Series.abs(x)))\n",
    "err = errors.groupby('width')['error']\n",
    "abs_median = err.apply(lambda x: pd.Series.median(pd.Series.abs(x)))\n",
    "idx = (np.arange(2,362,2)[::-1])\n",
    "err_lq = err.quantile(0.25)\n",
    "err_uq = err.quantile(0.75)\n",
    "err_med = err.quantile(0.50)\n",
    "err_min = err.quantile(0)\n",
    "err_max = err.quantile(1)\n",
    "err_gap = err_uq - err_lq\n",
    "\n",
    "fig = plt.figure()\n",
    "ax = plt.subplot(111)\n",
    "ax.plot(idx, err_med.values, label=\"Median\")\n",
    "#ax.plot(idx, abs_median.values, label=\"Median (Abs)\", linestyle='--')\n",
    "ax.plot(idx, err_gap.values, label=\"Gap\", linestyle=':')\n",
    "ax.fill_between(idx, err_lq.values, err_uq.values, antialiased=True, alpha=0.25, linestyle='-', label=\"First and Third Quartile\")\n",
    "ax.set_ylabel(\"Median Bearing Error (BE)  ($^\\circ$)\")\n",
    "ax.set_xlabel(\"Focused Capture Width ($^\\circ$)\")\n",
    "ax.set_xticks([x for x in range(0,361,45)])\n",
    "ax.set_yticks([y for y in range(-30,181,30)])\n",
    "ax.set_xlim([1,360])\n",
    "ax.set_ylim([-30,180])\n",
    "ax.grid()\n",
    "ax.legend(bbox_to_anchor=(1,1))\n",
    "ax.plot([0,360],[0,0],'k')\n",
    "plt.savefig('focused_capture_width.pgf')"
   ]
  },
  {
   "cell_type": "code",
   "execution_count": 16,
   "metadata": {},
   "outputs": [
    {
     "data": {
      "text/plain": [
       "80    34.323284\n",
       "82    31.494270\n",
       "84    31.145738\n",
       "86    32.644974\n",
       "88    32.411876\n",
       "90    32.617166\n",
       "92    32.444514\n",
       "94    33.150923\n",
       "96    34.156494\n",
       "98    34.625586\n",
       "Name: error, dtype: float64"
      ]
     },
     "execution_count": 16,
     "metadata": {},
     "output_type": "execute_result"
    }
   ],
   "source": [
    "err_lq = err.quantile(0.25)\n",
    "err_uq = err.quantile(0.75)\n",
    "err_gap = err_uq - err_lq\n",
    "err_gap.index = idx\n",
    "err_gap[np.arange(80,100,2)]"
   ]
  },
  {
   "cell_type": "code",
   "execution_count": 21,
   "metadata": {},
   "outputs": [
    {
     "data": {
      "text/plain": [
       "count    580.000000\n",
       "mean      15.082287\n",
       "std       56.440032\n",
       "min     -178.218018\n",
       "25%       -3.359070\n",
       "50%       10.218872\n",
       "75%       29.052806\n",
       "max      180.000000\n",
       "Name: error, dtype: float64"
      ]
     },
     "execution_count": 21,
     "metadata": {},
     "output_type": "execute_result"
    },
    {
     "data": {
      "image/png": "[encoded data removed]",
      "text/plain": [
       "<matplotlib.figure.Figure at 0x7f66ef6b8518>"
      ]
     },
     "metadata": {},
     "output_type": "display_data"
    }
   ],
   "source": [
    "fcw = errors[errors.width==(-44,44)].error\n",
    "\n",
    "f, (ax1, ax2) = plt.subplots(2, sharex=False)\n",
    "ax1.boxplot(fcw, 1, vert=False, sym='+')\n",
    "\n",
    "# label = f\"Optimal CHD (median: {format(data['discovery-hop-dist-2'].median(), '.2f')} \"\n",
    "plt.rcParams[\"figure.figsize\"] = [6, 4]\n",
    "ax1.set_yticklabels([])\n",
    "ax2.set_yticklabels([])\n",
    "ax1.tick_params(axis='y', which=u'both',length=0)\n",
    "ax2.tick_params(axis='y', which=u'both',length=0)\n",
    "ax1.set_xticks([x for x in range(-180,181,45)])\n",
    "ax2.set_xticks([x for x in range(-180,181,45)])\n",
    "\n",
    "plt.xlabel(r'Bearing Error (BE)  ($^\\circ$)')\n",
    "\n",
    "\n",
    "ax2.hist(fcw, 180)\n",
    "f.savefig('fcw_optimal.pgf')\n",
    "\n",
    "fcw.describe()"
   ]
  },
  {
   "cell_type": "code",
   "execution_count": null,
   "metadata": {},
   "outputs": [],
   "source": []
  }
 ],
 "metadata": {
  "kernelspec": {
   "display_name": "Python 3",
   "language": "python",
   "name": "python3"
  },
  "language_info": {
   "codemirror_mode": {
    "name": "ipython",
    "version": 3
   },
   "file_extension": ".py",
   "mimetype": "text/x-python",
   "name": "python",
   "nbconvert_exporter": "python",
   "pygments_lexer": "ipython3",
   "version": "3.6.3"
  }
 },
 "nbformat": 4,
 "nbformat_minor": 2
}
